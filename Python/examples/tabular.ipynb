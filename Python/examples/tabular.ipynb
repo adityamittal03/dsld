{
 "cells": [
  {
   "cell_type": "markdown",
   "id": "81e2b54a",
   "metadata": {},
   "source": [
    "#### Examples for analytical/tabular methods provided by dsldPy\n",
    "\n",
    "The goal is for users to apply analytical/tabular methods with simple, intuitive interface. The following functions are included for python:\n",
    "\n",
    "1. dsldLinear, dsldLogit, and dsldML \n",
    "2. dsldTakeALookAround\n",
    "3. dsldHunting (both C/O hunting functions)\n",
    "4. dsldFrequencybyS  \n",
    "5. dsldMatchedAte"
   ]
  },
  {
   "cell_type": "code",
   "execution_count": 1,
   "id": "675ca88a",
   "metadata": {},
   "outputs": [
    {
     "name": "stderr",
     "output_type": "stream",
     "text": [
      "Error importing in API mode: ImportError(\"dlopen(/Users/adityamittal/miniconda3/lib/python3.12/site-packages/_rinterface_cffi_api.abi3.so, 0x0002): Library not loaded: /Library/Frameworks/R.framework/Versions/4.5-arm64/Resources/lib/libRblas.dylib\\n  Referenced from: <1F2D8792-55A5-3398-8569-DDFF21A19C12> /Users/adityamittal/miniconda3/lib/python3.12/site-packages/_rinterface_cffi_api.abi3.so\\n  Reason: tried: '/Library/Frameworks/R.framework/Versions/4.5-arm64/Resources/lib/libRblas.dylib' (no such file), '/System/Volumes/Preboot/Cryptexes/OS/Library/Frameworks/R.framework/Versions/4.5-arm64/Resources/lib/libRblas.dylib' (no such file), '/Library/Frameworks/R.framework/Versions/4.5-arm64/Resources/lib/libRblas.dylib' (no such file)\")\n",
      "Trying to import in ABI mode.\n",
      "R callback write-console: \n",
      "\n",
      "\n",
      "\n",
      "\n",
      "*********************\n",
      "\n",
      "\n",
      "\n",
      "  Navigating dsld:\n",
      "\n",
      "      Type vignette(\"Quick_Start\",package=\"dsld\") for a quick overview!\n",
      "\n",
      "      Type vignette(\"Function_List\",package=\"dsld\") for a categorized function list\n",
      "\n",
      "      Latest version at https://github.com/matloff/dsld\n",
      "  \n",
      "R callback write-console: In addition:   \n",
      "R callback write-console: Warning message:\n",
      "  \n",
      "R callback write-console: Objects listed as exports, but not present in namespace:\n",
      "• dsldFairUtilTrade \n",
      "  \n"
     ]
    }
   ],
   "source": [
    "# load necessary libraries\n",
    "import pandas as pd\n",
    "import numpy as np\n",
    "import sys, os\n",
    "\n",
    "# r-conversions\n",
    "import rpy2.robjects as ro\n",
    "from rpy2.robjects.packages import importr\n",
    "\n",
    "# test accuracy\n",
    "from sklearn.model_selection import train_test_split\n",
    "from sklearn.metrics import mean_absolute_error, accuracy_score\n",
    "\n",
    "# load dsld package\n",
    "R = ro.r\n",
    "R('if (\"dsld\" %in% loadedNamespaces()) detach(\"package:dsld\", unload=TRUE)')\n",
    "R('if (!requireNamespace(\"devtools\", quietly=TRUE)) install.packages(\"devtools\")')\n",
    "R('devtools::load_all(\"~/Desktop/dsld\", quiet=TRUE)')\n",
    "\n",
    "parent_dir = os.path.abspath(os.path.join(os.getcwd(), \"..\"))\n",
    "sys.path.append(os.path.join(parent_dir, \"dsld\"))\n",
    "from Utils import preprocess_data, read_data\n",
    "\n",
    "dsld = importr(\"dsld\")"
   ]
  },
  {
   "cell_type": "code",
   "execution_count": 2,
   "id": "c9c7ac54",
   "metadata": {},
   "outputs": [],
   "source": [
    "### dsldLinear, dsldLogit, dsldML examples \n",
    "\n",
    "from dsldPyLinear import (\n",
    "    dsldPyLinear, dsldPyLinearSummary, dsldPyLinearPredict, dsldPyLinearVcov, dsldPyLinearCoef, dsldPyLinearGetData\n",
    ")\n",
    "\n",
    "from dsldPyLogit import (\n",
    "    dsldPyLogit, dsldPyLogitSummary, dsldPyLogitPredict, dsldPyLogitVcov, dsldPyLogitCoef, dsldPyLogitGetData\n",
    ") \n",
    "\n",
    "from dsldPyML import dsldPyML\n",
    "\n",
    "### data preprocessing\n",
    "\n",
    "### most dsldPy functions require a R data.frame object as input (NOT pandas dataframe)\n",
    "### the preprocessing is done in the Utils.py file by the function preprocess_data\n",
    "### user needs to manually provide the categorical and numerical features (list)\n",
    "### the function preprocess_data returns a R data.frame object -> this is the required input for the dsldPy functions\n",
    "\n",
    "# svcensus data\n",
    "df = read_data('~/Desktop/dsld/data/svcensus.RData')\n",
    "\n",
    "# preprocess data\n",
    "cat_features = ['educ', 'occ', 'gender']\n",
    "num_features= ['age', 'wageinc', 'wkswrkd']\n",
    "svcensus = preprocess_data(df, cat_features, num_features)\n",
    "\n",
    "df_10 = df.head(2)\n",
    "df_10 = df_10[['age', 'educ', 'occ', 'wkswrkd']]\n",
    "cat_features = ['educ', 'occ']\n",
    "num_features = ['age','wkswrkd']\n",
    "svcensus_comparisons_points = preprocess_data(df_10, cat_features, num_features)\n",
    "\n",
    "# compas1 data\n",
    "df = read_data('~/Desktop/dsld/data/compas1.RData')\n",
    "\n",
    "# preprocess data\n",
    "cat_features = [\"sex\", \"two_year_recid\", \"race\"]\n",
    "num_features = [\"age\",\"juv_fel_count\",\"decile_score\",\"juv_misd_count\",\"juv_other_count\",\"priors_count\",\"c_jail_in\",\"c_jail_out\",\"c_offense_date\",\"screening_date\",\"in_custody\",\"out_custody\"]\n",
    "compas1 = preprocess_data(df, cat_features, num_features)\n",
    "\n",
    "df_10 = df.head(2)\n",
    "df_10 = df_10[[\"sex\", \"age\",\"juv_fel_count\",\"decile_score\",\"juv_misd_count\",\"juv_other_count\",\"priors_count\",\"c_jail_in\",\"c_jail_out\",\"c_offense_date\",\"screening_date\",\"in_custody\",\"out_custody\"]]\n",
    "cat_features = [\"sex\"]\n",
    "num_features = [\"age\",\"juv_fel_count\",\"decile_score\",\"juv_misd_count\",\"juv_other_count\",\"priors_count\",\"c_jail_in\",\"c_jail_out\",\"c_offense_date\",\"screening_date\",\"in_custody\",\"out_custody\"]\n",
    "compas1_comparisons_points = preprocess_data(df_10, cat_features, num_features)"
   ]
  },
  {
   "cell_type": "code",
   "execution_count": 3,
   "id": "ddfb760f",
   "metadata": {},
   "outputs": [
    {
     "name": "stdout",
     "output_type": "stream",
     "text": [
      "[1] \"No user sComparisonPts supplied. The following rows \\n                    are selected: 6482,13714,4534,3025,15140\"\n"
     ]
    }
   ],
   "source": [
    "### 1. ------------------------------ dsldPyLinear/dsldPyLogit/dsldPyML ------------------------------\n",
    "\n",
    "## dsldPyLinear - interactions = True\n",
    "a = dsldPyLinear(svcensus, 'wageinc', 'gender', True)\n",
    "\n",
    "### the object a is a list of R objects --- can be accessed using the following functions \n",
    "### note that directly looking at 'a' might not be helpful --- use the following functions to access the results and use in python\n",
    "\n",
    "# uncomment to see the results of the functions\n",
    "# dsldPyLinearSummary(a)   \n",
    "# dsldPyLinearCoef(a)\n",
    "# dsldPyLinearVcov(a)\n",
    "# dsldPyLinearGetData(a)\n",
    "\n",
    "# predict()\n",
    "preds = dsldPyLinearPredict(a, svcensus_comparisons_points)\n",
    "preds\n",
    "\n",
    "### can also work with interactions = False as well\n",
    "a2 = dsldPyLinear(svcensus, 'wageinc', 'gender', False)\n",
    "\n",
    "# dsldPyLinearSummary(a2)   \n",
    "# dsldPyLinearCoef(a2)\n",
    "# dsldPyLinearVcov(a2)\n",
    "# dsldPyLinearGetData(a2)\n",
    "\n",
    "## the predict() method requires newData to include S (which is not done)"
   ]
  },
  {
   "cell_type": "code",
   "execution_count": 4,
   "id": "70d2ed58",
   "metadata": {},
   "outputs": [
    {
     "name": "stdout",
     "output_type": "stream",
     "text": [
      "[1] \"No user sComparisonPts supplied. The following rows \\n                    are selected: 3270,4214,2349,373,1896\"\n"
     ]
    },
    {
     "name": "stderr",
     "output_type": "stream",
     "text": [
      "R callback write-console: In addition:   \n",
      "R callback write-console: Warning messages:\n",
      "  \n",
      "R callback write-console: 1: glm.fit: algorithm did not converge \n",
      "  \n",
      "R callback write-console: 2: glm.fit: fitted probabilities numerically 0 or 1 occurred \n",
      "  \n",
      "R callback write-console: 3: glm.fit: fitted probabilities numerically 0 or 1 occurred \n",
      "  \n"
     ]
    }
   ],
   "source": [
    "# dsldPyLogit - interactions = False\n",
    "\n",
    "b = dsldPyLogit(compas1, 'two_year_recid', 'race', interactions=True, yesYVal = \"Yes\")\n",
    "\n",
    "### the object b is a list of R objects --- can be accessed using the following functions \n",
    "### note that directly looking at 'b' might not be helpful --- use the following functions to access the results and use in python\n",
    "\n",
    "# uncomment to see the results of the functions\n",
    "# dsldPyLogitSummary(b)\n",
    "# dsldPyLogitCoef(b)\n",
    "# dsldPyLogitVcov(b)\n",
    "# dsldPyLogitGetData(b)\n",
    "\n",
    "# predict()\n",
    "preds = dsldPyLogitPredict(b, compas1_comparisons_points)\n",
    "preds\n",
    "\n",
    "### can also work with interactions = False as well\n",
    "b2 = dsldPyLogit(compas1, 'two_year_recid', 'race', interactions=False, yesYVal = \"Yes\")\n",
    "\n",
    "# dsldPyLogitSummary(b2)\n",
    "# dsldPyLogitCoef(b2)\n",
    "# dsldPyLogitVcov(b2)\n",
    "# dsldPyLogitGetData(b2)"
   ]
  },
  {
   "cell_type": "code",
   "execution_count": 11,
   "id": "395702ad",
   "metadata": {},
   "outputs": [
    {
     "name": "stdout",
     "output_type": "stream",
     "text": [
      "({'testAcc: female': 20348.978775510197, 'testAcc: male': 28391.778000000002},              age      educ  occ  wkswrkd   female     male\n",
      "3327   36.966051  zzzOther  102     45.0  59448.0  80720.0\n",
      "3491   46.395153  zzzOther  100     52.0  59076.0  68960.0\n",
      "16059  36.363451  zzzOther  101     52.0  47636.0  71524.0\n",
      "17627  30.599976  zzzOther  102     52.0  60440.0  80520.0\n",
      "10090  41.377617  zzzOther  102     52.0  58084.0  86920.0)\n"
     ]
    }
   ],
   "source": [
    "## dsldPyML - returns testAcc for each sLevel and dataframe (excluding yName and sName) of predictions\n",
    "### works for several qeML functions as far as I've tried\n",
    "c = dsldPyML(svcensus, 'wageinc', 'gender', 'qeKNN',sComparisonPts='rand5')\n",
    "print(c)"
   ]
  },
  {
   "cell_type": "code",
   "execution_count": null,
   "id": "ea67194c",
   "metadata": {},
   "outputs": [
    {
     "data": {
      "text/html": [
       "<div>\n",
       "<style scoped>\n",
       "    .dataframe tbody tr th:only-of-type {\n",
       "        vertical-align: middle;\n",
       "    }\n",
       "\n",
       "    .dataframe tbody tr th {\n",
       "        vertical-align: top;\n",
       "    }\n",
       "\n",
       "    .dataframe thead th {\n",
       "        text-align: right;\n",
       "    }\n",
       "</style>\n",
       "<table border=\"1\" class=\"dataframe\">\n",
       "  <thead>\n",
       "    <tr style=\"text-align: right;\">\n",
       "      <th></th>\n",
       "      <th>Feature Names</th>\n",
       "      <th>a</th>\n",
       "      <th>b</th>\n",
       "      <th>c</th>\n",
       "    </tr>\n",
       "  </thead>\n",
       "  <tbody>\n",
       "    <tr>\n",
       "      <th>1</th>\n",
       "      <td>age</td>\n",
       "      <td>31249.319276</td>\n",
       "      <td>30951.621761</td>\n",
       "      <td>0.269</td>\n",
       "    </tr>\n",
       "    <tr>\n",
       "      <th>2</th>\n",
       "      <td>educ</td>\n",
       "      <td>32598.532572</td>\n",
       "      <td>30154.447135</td>\n",
       "      <td>0.247</td>\n",
       "    </tr>\n",
       "    <tr>\n",
       "      <th>3</th>\n",
       "      <td>occ</td>\n",
       "      <td>30206.443122</td>\n",
       "      <td>33318.131905</td>\n",
       "      <td>0.237</td>\n",
       "    </tr>\n",
       "    <tr>\n",
       "      <th>4</th>\n",
       "      <td>wkswrkd</td>\n",
       "      <td>26905.509363</td>\n",
       "      <td>29081.132847</td>\n",
       "      <td>0.249</td>\n",
       "    </tr>\n",
       "    <tr>\n",
       "      <th>5</th>\n",
       "      <td>age,educ</td>\n",
       "      <td>30835.132566</td>\n",
       "      <td>30388.810233</td>\n",
       "      <td>0.234</td>\n",
       "    </tr>\n",
       "    <tr>\n",
       "      <th>6</th>\n",
       "      <td>age,occ</td>\n",
       "      <td>30562.037098</td>\n",
       "      <td>30228.283929</td>\n",
       "      <td>0.271</td>\n",
       "    </tr>\n",
       "    <tr>\n",
       "      <th>7</th>\n",
       "      <td>age,wkswrkd</td>\n",
       "      <td>25880.922267</td>\n",
       "      <td>26232.128175</td>\n",
       "      <td>0.253</td>\n",
       "    </tr>\n",
       "    <tr>\n",
       "      <th>8</th>\n",
       "      <td>educ,occ</td>\n",
       "      <td>30600.412121</td>\n",
       "      <td>30243.119416</td>\n",
       "      <td>0.234</td>\n",
       "    </tr>\n",
       "    <tr>\n",
       "      <th>9</th>\n",
       "      <td>educ,wkswrkd</td>\n",
       "      <td>27652.158130</td>\n",
       "      <td>25762.518054</td>\n",
       "      <td>0.243</td>\n",
       "    </tr>\n",
       "    <tr>\n",
       "      <th>10</th>\n",
       "      <td>occ,wkswrkd</td>\n",
       "      <td>26523.200422</td>\n",
       "      <td>26277.287928</td>\n",
       "      <td>0.221</td>\n",
       "    </tr>\n",
       "    <tr>\n",
       "      <th>11</th>\n",
       "      <td>age,educ,occ</td>\n",
       "      <td>29986.389373</td>\n",
       "      <td>29652.358225</td>\n",
       "      <td>0.263</td>\n",
       "    </tr>\n",
       "    <tr>\n",
       "      <th>12</th>\n",
       "      <td>age,educ,wkswrkd</td>\n",
       "      <td>25682.779438</td>\n",
       "      <td>26032.643049</td>\n",
       "      <td>0.253</td>\n",
       "    </tr>\n",
       "    <tr>\n",
       "      <th>13</th>\n",
       "      <td>age,occ,wkswrkd</td>\n",
       "      <td>26283.148325</td>\n",
       "      <td>24406.076710</td>\n",
       "      <td>0.238</td>\n",
       "    </tr>\n",
       "    <tr>\n",
       "      <th>14</th>\n",
       "      <td>educ,occ,wkswrkd</td>\n",
       "      <td>26320.268007</td>\n",
       "      <td>26351.155303</td>\n",
       "      <td>0.246</td>\n",
       "    </tr>\n",
       "    <tr>\n",
       "      <th>15</th>\n",
       "      <td>age,educ,occ,wkswrkd</td>\n",
       "      <td>26073.841211</td>\n",
       "      <td>24984.062656</td>\n",
       "      <td>0.262</td>\n",
       "    </tr>\n",
       "  </tbody>\n",
       "</table>\n",
       "</div>"
      ],
      "text/plain": [
       "           Feature Names             a             b      c\n",
       "1                    age  31249.319276  30951.621761  0.269\n",
       "2                   educ  32598.532572  30154.447135  0.247\n",
       "3                    occ  30206.443122  33318.131905  0.237\n",
       "4                wkswrkd  26905.509363  29081.132847  0.249\n",
       "5               age,educ  30835.132566  30388.810233  0.234\n",
       "6                age,occ  30562.037098  30228.283929  0.271\n",
       "7            age,wkswrkd  25880.922267  26232.128175  0.253\n",
       "8               educ,occ  30600.412121  30243.119416  0.234\n",
       "9           educ,wkswrkd  27652.158130  25762.518054  0.243\n",
       "10           occ,wkswrkd  26523.200422  26277.287928  0.221\n",
       "11          age,educ,occ  29986.389373  29652.358225  0.263\n",
       "12      age,educ,wkswrkd  25682.779438  26032.643049  0.253\n",
       "13       age,occ,wkswrkd  26283.148325  24406.076710  0.238\n",
       "14      educ,occ,wkswrkd  26320.268007  26351.155303  0.246\n",
       "15  age,educ,occ,wkswrkd  26073.841211  24984.062656  0.262"
      ]
     },
     "execution_count": 6,
     "metadata": {},
     "output_type": "execute_result"
    }
   ],
   "source": [
    "### 2. ------------------------------ dsldTakeALookAround ------------------------------\n",
    "from dsldPyTakeALookAround import dsldPyTakeALookAround\n",
    "dsldPyTakeALookAround(svcensus, 'wageinc', 'gender', 4)   \n"
   ]
  },
  {
   "cell_type": "code",
   "execution_count": null,
   "id": "db089aa9",
   "metadata": {},
   "outputs": [
    {
     "name": "stderr",
     "output_type": "stream",
     "text": [
      "R callback write-console: Loading required namespace: randomForest\n",
      "  \n"
     ]
    },
    {
     "name": "stdout",
     "output_type": "stream",
     "text": [
      "{'impForY': [('wkswrkd', 718747437.8052691), ('age', 175997763.50289333), ('occ', 82085489.27041695), ('educ', 79027198.5980331)], 'impForS': [('occ', 0.01970223595878264), ('age', 0.0011118602810904878), ('wkswrkd', 0.0009673452497156447), ('educ', 0.0005858137724793742)]}\n"
     ]
    },
    {
     "name": "stderr",
     "output_type": "stream",
     "text": [
      "R callback write-console: In addition:   \n",
      "R callback write-console: There were 21 warnings (use warnings() to see them)  \n",
      "R callback write-console: \n",
      "  \n"
     ]
    },
    {
     "name": "stdout",
     "output_type": "stream",
     "text": [
      "                       age    educ.14     educ.16 educ.zzzOther    occ.100\n",
      "gender.female  0.009480006 -0.0114536 -0.04627929     0.0307762  0.1126074\n",
      "gender.male   -0.009480006  0.0114536  0.04627929    -0.0307762 -0.1126074\n",
      "                  occ.101     occ.102     occ.106     occ.140    occ.141\n",
      "gender.female  0.01504479 -0.01446593  0.06434029 -0.04078825 -0.1391859\n",
      "gender.male   -0.01504479  0.01446593 -0.06434029  0.04078825  0.1391859\n",
      "                  wkswrkd\n",
      "gender.female -0.03547912\n",
      "gender.male    0.03547912\n"
     ]
    }
   ],
   "source": [
    "### 3. ------------------------------ dsldHunting ------------------------------\n",
    "\n",
    "from dsldPyHunting import dsldPyCHunting, dsldPyOHunting\n",
    "\n",
    "# dsldPyCHunting - C-Hunting\n",
    "# 'a' is a python dictionary listing columns of dataset in order of importance of Y and S\n",
    "a = dsldPyCHunting(svcensus, 'wageinc', 'gender')\n",
    "print(a)\n",
    "\n",
    "# # dsldPyOHunting - O-Hunting\n",
    "### 'b' is a list of R objects\n",
    "### note that directly looking at 'b' might not be helpful --- use ro.r(\"print\")(b) to print the results in R\n",
    "b = dsldPyOHunting(svcensus, 'wageinc', 'gender')\n",
    "\n",
    "# to correctly print the results in R\n",
    "# ro.r(\"print\")(b)"
   ]
  },
  {
   "cell_type": "code",
   "execution_count": null,
   "id": "32ab71e2",
   "metadata": {},
   "outputs": [
    {
     "data": {
      "text/html": [
       "<div>\n",
       "<style scoped>\n",
       "    .dataframe tbody tr th:only-of-type {\n",
       "        vertical-align: middle;\n",
       "    }\n",
       "\n",
       "    .dataframe tbody tr th {\n",
       "        vertical-align: top;\n",
       "    }\n",
       "\n",
       "    .dataframe thead th {\n",
       "        text-align: right;\n",
       "    }\n",
       "</style>\n",
       "<table border=\"1\" class=\"dataframe\">\n",
       "  <thead>\n",
       "    <tr style=\"text-align: right;\">\n",
       "      <th></th>\n",
       "      <th>Frequency of zzzOther</th>\n",
       "      <th>Frequency of 14</th>\n",
       "      <th>Frequency of 16</th>\n",
       "    </tr>\n",
       "  </thead>\n",
       "  <tbody>\n",
       "    <tr>\n",
       "      <th>female</th>\n",
       "      <td>0.206805</td>\n",
       "      <td>0.020986</td>\n",
       "      <td>0.772209</td>\n",
       "    </tr>\n",
       "    <tr>\n",
       "      <th>male</th>\n",
       "      <td>0.217758</td>\n",
       "      <td>0.041101</td>\n",
       "      <td>0.741141</td>\n",
       "    </tr>\n",
       "  </tbody>\n",
       "</table>\n",
       "</div>"
      ],
      "text/plain": [
       "        Frequency of zzzOther  Frequency of 14  Frequency of 16\n",
       "female               0.206805         0.020986         0.772209\n",
       "male                 0.217758         0.041101         0.741141"
      ]
     },
     "execution_count": 8,
     "metadata": {},
     "output_type": "execute_result"
    }
   ],
   "source": [
    "### 4. ------------------------------ dsldFrequencybyS ------------------------------\n",
    "from dsldPyFrequencybyS import dsldPyFrequencybyS\n",
    "dsldPyFrequencybyS(svcensus, 'educ', 'gender')"
   ]
  },
  {
   "cell_type": "code",
   "execution_count": null,
   "id": "99ef6117",
   "metadata": {},
   "outputs": [
    {
     "name": "stdout",
     "output_type": "stream",
     "text": [
      "\n",
      "Estimate...  -0.022545 \n",
      "SE.........  0.0071265 \n",
      "T-stat.....  -3.1635 \n",
      "p.val......  0.0015587 \n",
      "\n",
      "Original number of observations..............  5855 \n",
      "Original number of treated obs...............  2055 \n",
      "Matched number of observations...............  5855 \n",
      "Matched number of observations  (unweighted).  5855 \n",
      "\n"
     ]
    }
   ],
   "source": [
    "### 5. ------------------------------ dsldMatchedAte ------------------------------\n",
    "### this is a mere print function --- there is no return value\n",
    "### the R object was too messy to convert to python --- so just left it printed in R\n",
    "from dsldPyMatching import dsldPyMatchedATE\n",
    "dsldPyMatchedATE(compas1, 'two_year_recid', 'race', 'Caucasian')"
   ]
  }
 ],
 "metadata": {
  "kernelspec": {
   "display_name": "base",
   "language": "python",
   "name": "python3"
  },
  "language_info": {
   "codemirror_mode": {
    "name": "ipython",
    "version": 3
   },
   "file_extension": ".py",
   "mimetype": "text/x-python",
   "name": "python",
   "nbconvert_exporter": "python",
   "pygments_lexer": "ipython3",
   "version": "3.12.2"
  }
 },
 "nbformat": 4,
 "nbformat_minor": 5
}
